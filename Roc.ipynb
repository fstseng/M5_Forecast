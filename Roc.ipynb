{
 "cells": [
  {
   "cell_type": "code",
   "execution_count": 4,
   "metadata": {},
   "outputs": [],
   "source": [
    "#Written by Roc Chow, March 2020"
   ]
  },
  {
   "cell_type": "code",
   "execution_count": 5,
   "metadata": {},
   "outputs": [],
   "source": [
    "#import libraries\n",
    "import pandas as pd\n",
    "import numpy as np\n",
    "import glob\n",
    "%matplotlib inline\n",
    "import matplotlib.pyplot as plt\n",
    "import seaborn as sns"
   ]
  },
  {
   "cell_type": "code",
   "execution_count": 6,
   "metadata": {},
   "outputs": [],
   "source": [
    "# read all csv files under the same directory\n",
    "def readallcsv():\n",
    "    allcsv = glob.glob(\"./*.csv\")\n",
    "    print(\"The following DataFrame will be created: \")\n",
    "    for f in allcsv:\n",
    "        print(f.split('.')[1][1:])\n",
    "        globals()[f.split('.')[1][1:]] = pd.read_csv(f)\n"
   ]
  },
  {
   "cell_type": "code",
   "execution_count": 7,
   "metadata": {},
   "outputs": [
    {
     "name": "stdout",
     "output_type": "stream",
     "text": [
      "The following DataFrame will be created: \n",
      "calendar\n",
      "sales_train_validation\n",
      "sample_submission\n",
      "sell_prices\n"
     ]
    }
   ],
   "source": [
    "readallcsv()"
   ]
  },
  {
   "cell_type": "code",
   "execution_count": 8,
   "metadata": {},
   "outputs": [],
   "source": [
    "# Preparing Dataframe\n",
    "\n",
    "# adding states and item category column to sell_prices df\n",
    "sell_prices['state'] = sell_prices.store_id.str.split(\"_\", n = 1, expand = True)[0]\n",
    "sell_prices['category'] = sell_prices.item_id.str.split(\"_\", n = 1, expand = True)[0]\n",
    "\n",
    "#joining calendar and sales\n",
    "joined_df = pd.merge(sell_prices, calendar, on='wm_yr_wk')"
   ]
  },
  {
   "cell_type": "code",
   "execution_count": 9,
   "metadata": {},
   "outputs": [
    {
     "data": {
      "text/html": [
       "<div>\n",
       "<style scoped>\n",
       "    .dataframe tbody tr th:only-of-type {\n",
       "        vertical-align: middle;\n",
       "    }\n",
       "\n",
       "    .dataframe tbody tr th {\n",
       "        vertical-align: top;\n",
       "    }\n",
       "\n",
       "    .dataframe thead th {\n",
       "        text-align: right;\n",
       "    }\n",
       "</style>\n",
       "<table border=\"1\" class=\"dataframe\">\n",
       "  <thead>\n",
       "    <tr style=\"text-align: right;\">\n",
       "      <th></th>\n",
       "      <th>store_id</th>\n",
       "      <th>item_id</th>\n",
       "      <th>wm_yr_wk</th>\n",
       "      <th>sell_price</th>\n",
       "      <th>state</th>\n",
       "      <th>category</th>\n",
       "      <th>date</th>\n",
       "      <th>weekday</th>\n",
       "      <th>wday</th>\n",
       "      <th>month</th>\n",
       "      <th>year</th>\n",
       "      <th>d</th>\n",
       "      <th>event_name_1</th>\n",
       "      <th>event_type_1</th>\n",
       "      <th>event_name_2</th>\n",
       "      <th>event_type_2</th>\n",
       "      <th>snap_CA</th>\n",
       "      <th>snap_TX</th>\n",
       "      <th>snap_WI</th>\n",
       "    </tr>\n",
       "  </thead>\n",
       "  <tbody>\n",
       "    <tr>\n",
       "      <th>0</th>\n",
       "      <td>CA_1</td>\n",
       "      <td>HOBBIES_1_001</td>\n",
       "      <td>11325</td>\n",
       "      <td>9.58</td>\n",
       "      <td>CA</td>\n",
       "      <td>HOBBIES</td>\n",
       "      <td>2013-07-13</td>\n",
       "      <td>Saturday</td>\n",
       "      <td>1</td>\n",
       "      <td>7</td>\n",
       "      <td>2013</td>\n",
       "      <td>d_897</td>\n",
       "      <td>NaN</td>\n",
       "      <td>NaN</td>\n",
       "      <td>NaN</td>\n",
       "      <td>NaN</td>\n",
       "      <td>0</td>\n",
       "      <td>1</td>\n",
       "      <td>0</td>\n",
       "    </tr>\n",
       "    <tr>\n",
       "      <th>1</th>\n",
       "      <td>CA_1</td>\n",
       "      <td>HOBBIES_1_001</td>\n",
       "      <td>11325</td>\n",
       "      <td>9.58</td>\n",
       "      <td>CA</td>\n",
       "      <td>HOBBIES</td>\n",
       "      <td>2013-07-14</td>\n",
       "      <td>Sunday</td>\n",
       "      <td>2</td>\n",
       "      <td>7</td>\n",
       "      <td>2013</td>\n",
       "      <td>d_898</td>\n",
       "      <td>NaN</td>\n",
       "      <td>NaN</td>\n",
       "      <td>NaN</td>\n",
       "      <td>NaN</td>\n",
       "      <td>0</td>\n",
       "      <td>0</td>\n",
       "      <td>1</td>\n",
       "    </tr>\n",
       "    <tr>\n",
       "      <th>2</th>\n",
       "      <td>CA_1</td>\n",
       "      <td>HOBBIES_1_001</td>\n",
       "      <td>11325</td>\n",
       "      <td>9.58</td>\n",
       "      <td>CA</td>\n",
       "      <td>HOBBIES</td>\n",
       "      <td>2013-07-15</td>\n",
       "      <td>Monday</td>\n",
       "      <td>3</td>\n",
       "      <td>7</td>\n",
       "      <td>2013</td>\n",
       "      <td>d_899</td>\n",
       "      <td>NaN</td>\n",
       "      <td>NaN</td>\n",
       "      <td>NaN</td>\n",
       "      <td>NaN</td>\n",
       "      <td>0</td>\n",
       "      <td>1</td>\n",
       "      <td>1</td>\n",
       "    </tr>\n",
       "    <tr>\n",
       "      <th>3</th>\n",
       "      <td>CA_1</td>\n",
       "      <td>HOBBIES_1_001</td>\n",
       "      <td>11325</td>\n",
       "      <td>9.58</td>\n",
       "      <td>CA</td>\n",
       "      <td>HOBBIES</td>\n",
       "      <td>2013-07-16</td>\n",
       "      <td>Tuesday</td>\n",
       "      <td>4</td>\n",
       "      <td>7</td>\n",
       "      <td>2013</td>\n",
       "      <td>d_900</td>\n",
       "      <td>NaN</td>\n",
       "      <td>NaN</td>\n",
       "      <td>NaN</td>\n",
       "      <td>NaN</td>\n",
       "      <td>0</td>\n",
       "      <td>0</td>\n",
       "      <td>0</td>\n",
       "    </tr>\n",
       "    <tr>\n",
       "      <th>4</th>\n",
       "      <td>CA_1</td>\n",
       "      <td>HOBBIES_1_001</td>\n",
       "      <td>11325</td>\n",
       "      <td>9.58</td>\n",
       "      <td>CA</td>\n",
       "      <td>HOBBIES</td>\n",
       "      <td>2013-07-17</td>\n",
       "      <td>Wednesday</td>\n",
       "      <td>5</td>\n",
       "      <td>7</td>\n",
       "      <td>2013</td>\n",
       "      <td>d_901</td>\n",
       "      <td>NaN</td>\n",
       "      <td>NaN</td>\n",
       "      <td>NaN</td>\n",
       "      <td>NaN</td>\n",
       "      <td>0</td>\n",
       "      <td>0</td>\n",
       "      <td>0</td>\n",
       "    </tr>\n",
       "  </tbody>\n",
       "</table>\n",
       "</div>"
      ],
      "text/plain": [
       "  store_id        item_id  wm_yr_wk  sell_price state category        date  \\\n",
       "0     CA_1  HOBBIES_1_001     11325        9.58    CA  HOBBIES  2013-07-13   \n",
       "1     CA_1  HOBBIES_1_001     11325        9.58    CA  HOBBIES  2013-07-14   \n",
       "2     CA_1  HOBBIES_1_001     11325        9.58    CA  HOBBIES  2013-07-15   \n",
       "3     CA_1  HOBBIES_1_001     11325        9.58    CA  HOBBIES  2013-07-16   \n",
       "4     CA_1  HOBBIES_1_001     11325        9.58    CA  HOBBIES  2013-07-17   \n",
       "\n",
       "     weekday  wday  month  year      d event_name_1 event_type_1 event_name_2  \\\n",
       "0   Saturday     1      7  2013  d_897          NaN          NaN          NaN   \n",
       "1     Sunday     2      7  2013  d_898          NaN          NaN          NaN   \n",
       "2     Monday     3      7  2013  d_899          NaN          NaN          NaN   \n",
       "3    Tuesday     4      7  2013  d_900          NaN          NaN          NaN   \n",
       "4  Wednesday     5      7  2013  d_901          NaN          NaN          NaN   \n",
       "\n",
       "  event_type_2  snap_CA  snap_TX  snap_WI  \n",
       "0          NaN        0        1        0  \n",
       "1          NaN        0        0        1  \n",
       "2          NaN        0        1        1  \n",
       "3          NaN        0        0        0  \n",
       "4          NaN        0        0        0  "
      ]
     },
     "execution_count": 9,
     "metadata": {},
     "output_type": "execute_result"
    }
   ],
   "source": [
    "joined_df.head()"
   ]
  },
  {
   "cell_type": "code",
   "execution_count": 10,
   "metadata": {},
   "outputs": [
    {
     "data": {
      "text/plain": [
       "sell_price    1.000000\n",
       "wm_yr_wk      0.019481\n",
       "year          0.019100\n",
       "month         0.000503\n",
       "snap_WI       0.000034\n",
       "snap_TX       0.000029\n",
       "wday         -0.000033\n",
       "snap_CA      -0.000084\n",
       "Name: sell_price, dtype: float64"
      ]
     },
     "execution_count": 10,
     "metadata": {},
     "output_type": "execute_result"
    }
   ],
   "source": [
    "# correlation matrix\n",
    "corr_matrix = joined_df.corr()\n",
    "corr_matrix[\"sell_price\"].sort_values(ascending=False)"
   ]
  },
  {
   "cell_type": "code",
   "execution_count": 11,
   "metadata": {},
   "outputs": [],
   "source": [
    "# min df, aim to try with these min features to train, more features to add later to improve\n",
    "min_df = joined_df[['store_id', 'item_id', 'wm_yr_wk', 'sell_price', 'state', 'category','date', 'weekday', 'wday', 'month', 'year', 'd']]"
   ]
  },
  {
   "cell_type": "code",
   "execution_count": 12,
   "metadata": {},
   "outputs": [
    {
     "data": {
      "text/plain": [
       "(47735397, 12)"
      ]
     },
     "execution_count": 12,
     "metadata": {},
     "output_type": "execute_result"
    }
   ],
   "source": [
    "min_df.shape"
   ]
  },
  {
   "cell_type": "code",
   "execution_count": null,
   "metadata": {},
   "outputs": [],
   "source": []
  }
 ],
 "metadata": {
  "kernelspec": {
   "display_name": "Python 3",
   "language": "python",
   "name": "python3"
  },
  "language_info": {
   "codemirror_mode": {
    "name": "ipython",
    "version": 3
   },
   "file_extension": ".py",
   "mimetype": "text/x-python",
   "name": "python",
   "nbconvert_exporter": "python",
   "pygments_lexer": "ipython3",
   "version": "3.7.6"
  }
 },
 "nbformat": 4,
 "nbformat_minor": 4
}
